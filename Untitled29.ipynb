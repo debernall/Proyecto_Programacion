{
  "nbformat": 4,
  "nbformat_minor": 0,
  "metadata": {
    "colab": {
      "name": "Untitled29.ipynb",
      "provenance": [],
      "collapsed_sections": [],
      "authorship_tag": "ABX9TyNrf9YNigohMoDVo/N3umKS",
      "include_colab_link": true
    },
    "kernelspec": {
      "name": "python3",
      "display_name": "Python 3"
    },
    "language_info": {
      "name": "python"
    }
  },
  "cells": [
    {
      "cell_type": "markdown",
      "metadata": {
        "id": "view-in-github",
        "colab_type": "text"
      },
      "source": [
        "<a href=\"https://colab.research.google.com/github/debernall/Proyecto_Programacion/blob/main/Untitled29.ipynb\" target=\"_parent\"><img src=\"https://colab.research.google.com/assets/colab-badge.svg\" alt=\"Open In Colab\"/></a>"
      ]
    },
    {
      "cell_type": "code",
      "execution_count": 1,
      "metadata": {
        "id": "TvdjGyA-eNK1"
      },
      "outputs": [],
      "source": [
        "import numpy as np"
      ]
    },
    {
      "cell_type": "code",
      "source": [
        "x=1\n",
        "y=1.2"
      ],
      "metadata": {
        "id": "lB1_5RI_e180"
      },
      "execution_count": 13,
      "outputs": []
    },
    {
      "cell_type": "code",
      "source": [
        "print(\"la primera variable tiene un valor de int {} y la segunda variable tiene un valor de {}\".format(x,y))"
      ],
      "metadata": {
        "colab": {
          "base_uri": "https://localhost:8080/"
        },
        "id": "0lBT9tPOe8YD",
        "outputId": "de407216-6866-4e5a-976f-e1eb87eb36ee"
      },
      "execution_count": 14,
      "outputs": [
        {
          "output_type": "stream",
          "name": "stdout",
          "text": [
            "la primera variable tiene un valor de int 1 y la segunda variable tiene un valor de 1.2\n"
          ]
        }
      ]
    },
    {
      "cell_type": "code",
      "source": [
        "m=((x)/y)\n",
        "print(\"el resultado es\",m)"
      ],
      "metadata": {
        "colab": {
          "base_uri": "https://localhost:8080/"
        },
        "id": "DYCHFa0ZgarY",
        "outputId": "29155151-7e88-4a1c-f4f1-57effdc65c78"
      },
      "execution_count": 15,
      "outputs": [
        {
          "output_type": "stream",
          "name": "stdout",
          "text": [
            "el resultado es 0.8333333333333334\n"
          ]
        }
      ]
    },
    {
      "cell_type": "code",
      "source": [
        "lista=[101,26,'rio','gato',31,28]\n",
        "print(l)"
      ],
      "metadata": {
        "colab": {
          "base_uri": "https://localhost:8080/"
        },
        "id": "vc3ygUQwkid6",
        "outputId": "320ddeea-abc5-4873-faf9-2da0a4abc53c"
      },
      "execution_count": 29,
      "outputs": [
        {
          "output_type": "stream",
          "name": "stdout",
          "text": [
            "[101, 26, 'rio', 'gato', 31, 28, 257, 348, 583, 257, 348, 583]\n"
          ]
        }
      ]
    },
    {
      "cell_type": "code",
      "source": [
        "lista.extend([257,348,583])\n",
        "print(l)"
      ],
      "metadata": {
        "colab": {
          "base_uri": "https://localhost:8080/"
        },
        "id": "E_cJHOLyl9x7",
        "outputId": "7e00123a-d752-4563-89a8-ef1727001b08"
      },
      "execution_count": 30,
      "outputs": [
        {
          "output_type": "stream",
          "name": "stdout",
          "text": [
            "[101, 26, 'rio', 'gato', 31, 28, 257, 348, 583, 257, 348, 583]\n"
          ]
        }
      ]
    },
    {
      "cell_type": "code",
      "source": [
        "for i in lista:\n",
        "  print(i)"
      ],
      "metadata": {
        "colab": {
          "base_uri": "https://localhost:8080/"
        },
        "id": "OEIL3QrbmgiN",
        "outputId": "2f097568-02ec-4c7f-bc5f-94a8aa302dfb"
      },
      "execution_count": 31,
      "outputs": [
        {
          "output_type": "stream",
          "name": "stdout",
          "text": [
            "101\n",
            "26\n",
            "rio\n",
            "gato\n",
            "31\n",
            "28\n",
            "257\n",
            "348\n",
            "583\n"
          ]
        }
      ]
    },
    {
      "cell_type": "code",
      "source": [
        "print(lista[3])"
      ],
      "metadata": {
        "colab": {
          "base_uri": "https://localhost:8080/"
        },
        "id": "nr-Ks--JnTvo",
        "outputId": "2a45705b-b773-44bf-fd31-bc1325eaac11"
      },
      "execution_count": 33,
      "outputs": [
        {
          "output_type": "stream",
          "name": "stdout",
          "text": [
            "gato\n"
          ]
        }
      ]
    },
    {
      "cell_type": "code",
      "source": [
        "print(\"la longitud de la lista  es {}\".format(len(lista)))"
      ],
      "metadata": {
        "colab": {
          "base_uri": "https://localhost:8080/"
        },
        "id": "zyW0AG_mncDb",
        "outputId": "0540ca82-df5e-4d69-eda6-1545a6c51445"
      },
      "execution_count": 34,
      "outputs": [
        {
          "output_type": "stream",
          "name": "stdout",
          "text": [
            "la longitud de la lista  es 9\n"
          ]
        }
      ]
    },
    {
      "cell_type": "code",
      "source": [
        "x = np.int_(np.random.random(100)*900)\n",
        "print(\"arreglo x: \",x)\n"
      ],
      "metadata": {
        "colab": {
          "base_uri": "https://localhost:8080/"
        },
        "id": "2AQxE-zWpG0q",
        "outputId": "51b46fd3-5980-4819-df57-0cd08cba531e"
      },
      "execution_count": 48,
      "outputs": [
        {
          "output_type": "stream",
          "name": "stdout",
          "text": [
            "arreglo x:  [355  13 239 279 278 392 256 469 423 140 676 841 544 864 156 150 230 834\n",
            " 266 374 710 413 391 879 367 323 261 583 345 332  72   1 173 895 209 742\n",
            " 491 508 235 186 549 358 247 752 607 116 435 584 128 319 336 551 213 128\n",
            " 235 393  99 410 495 120 744 439 327 111 111 270 375 631 718 115 335 149\n",
            " 373 345 422 735 708 621 206 441 110 408 185 335 364 192 443 658 600 430\n",
            " 441 825 594 700 889 275 462 682 327 364]\n"
          ]
        }
      ]
    },
    {
      "cell_type": "code",
      "source": [
        "print(\"los numeros impares y menores o ilguaes que 800 son:\")\n",
        "i=0\n",
        "while x[i]<=800:\n",
        "  if x[i]%2!=0:\n",
        "    print(x[i])\n",
        "  i=i+1  "
      ],
      "metadata": {
        "colab": {
          "base_uri": "https://localhost:8080/"
        },
        "id": "WSgCccJCpQMv",
        "outputId": "3dcb8483-56ad-4461-e669-76afb5aed15a"
      },
      "execution_count": 68,
      "outputs": [
        {
          "output_type": "stream",
          "name": "stdout",
          "text": [
            "los numeros impares y menores o ilguaes que 800 son:\n",
            "355\n",
            "13\n",
            "239\n",
            "279\n",
            "469\n",
            "423\n"
          ]
        }
      ]
    },
    {
      "cell_type": "code",
      "source": [
        "def división(a,b):\n",
        "  c=a/b\n",
        "  return c\n",
        "división(11,17)"
      ],
      "metadata": {
        "colab": {
          "base_uri": "https://localhost:8080/"
        },
        "id": "BJtDvlSTt0bE",
        "outputId": "e712f50c-09dd-4204-b2fa-5a9088a96490"
      },
      "execution_count": 72,
      "outputs": [
        {
          "output_type": "execute_result",
          "data": {
            "text/plain": [
              "0.6470588235294118"
            ]
          },
          "metadata": {},
          "execution_count": 72
        }
      ]
    },
    {
      "cell_type": "code",
      "source": [
        "y = np.int_(np.random.random(100)*900)\n",
        "print(\"arreglo y: \", y)\n"
      ],
      "metadata": {
        "colab": {
          "base_uri": "https://localhost:8080/"
        },
        "id": "PKfHoCxzuZ3R",
        "outputId": "5d00afb6-fef6-4770-e848-317cf50bccc5"
      },
      "execution_count": 102,
      "outputs": [
        {
          "output_type": "stream",
          "name": "stdout",
          "text": [
            "arreglo y:  [890  24 658 381 870 815 236 600  20  74 358 392 132 236 112 311 288 617\n",
            " 867 756 718 650 601 688 168 296 719 501 631 504 412  88 597 222 606 167\n",
            " 568 571 233 556 861 417 160 278 598 240 349 898 757 398 544 433 209 569\n",
            " 476 365 518 784 793 471  16 299 522 565  66 868 272 796 706 705 182 107\n",
            "   5 174  92 165 835 621 407 815 639 360  76 338  50 352 200 256 314 683\n",
            " 135   2 737 294 861 875 743 341 789 595]\n"
          ]
        }
      ]
    },
    {
      "cell_type": "code",
      "source": [
        "def minimo(l):\n",
        "  i=0\n",
        "  menor=l[0]\n",
        "  while i<len(l):\n",
        "      if l[i]<=menor:\n",
        "        menor=l[i] # Ver nota más adelante\n",
        "      i=i+1\n",
        "  return menor\n",
        "\n",
        "minimo(y)"
      ],
      "metadata": {
        "colab": {
          "base_uri": "https://localhost:8080/"
        },
        "id": "wITZX4L62V16",
        "outputId": "9c575a95-f401-4a2b-90da-58634b0994af"
      },
      "execution_count": 104,
      "outputs": [
        {
          "output_type": "execute_result",
          "data": {
            "text/plain": [
              "2"
            ]
          },
          "metadata": {},
          "execution_count": 104
        }
      ]
    },
    {
      "cell_type": "code",
      "source": [
        "print(\"el valor recorriendo la lista {} y el valor con min {}\".format(minimo(y),np.min(y)))\n"
      ],
      "metadata": {
        "colab": {
          "base_uri": "https://localhost:8080/"
        },
        "id": "EkoH0dHtvByl",
        "outputId": "4b8b7ba0-8232-44e0-9fde-c37f47278cca"
      },
      "execution_count": 107,
      "outputs": [
        {
          "output_type": "stream",
          "name": "stdout",
          "text": [
            "el valor recorriendo la lista 2 y el valor con min 2\n"
          ]
        }
      ]
    },
    {
      "cell_type": "code",
      "source": [
        "i=0\n",
        "m=[]\n",
        "while i<=9:\n",
        "  m.append((x[i]+x[len(x)-1-i])/len(x))\n",
        "  i=i+1\n",
        "print(m)"
      ],
      "metadata": {
        "colab": {
          "base_uri": "https://localhost:8080/"
        },
        "id": "xm64raRy8RPA",
        "outputId": "e9cedfc3-6ac8-4d91-e536-5402c574f788"
      },
      "execution_count": 142,
      "outputs": [
        {
          "output_type": "stream",
          "name": "stdout",
          "text": [
            "[7.19, 3.4, 9.21, 7.41, 5.53, 12.81, 9.56, 10.63, 12.48, 5.81]\n"
          ]
        }
      ]
    },
    {
      "cell_type": "code",
      "source": [
        "k=x[:10]\n",
        "k1=x[(len(x)-10):]\n",
        "r=[(k[0]+k1[9])/100,(k[1]+k1[8])/100,(k[2]+k1[7])/100,(k[3]+k1[6])/100,(k[4]+k1[5])/100]\n",
        "r1=[(k[5]+k1[4])/100,(k[6]+k1[3])/100]\n",
        "r2=[(k[7]+k1[2])/100,(k[8]+k1[1])/100,(k[9]+k1[0])/100,]\n",
        "print(r+r1+r2)"
      ],
      "metadata": {
        "colab": {
          "base_uri": "https://localhost:8080/"
        },
        "id": "D-VbFEaH-av_",
        "outputId": "f5a89981-2ad7-47b6-c76f-f02ee5da6366"
      },
      "execution_count": 141,
      "outputs": [
        {
          "output_type": "stream",
          "name": "stdout",
          "text": [
            "[7.19, 3.4, 9.21, 7.41, 5.53, 12.81, 9.56, 10.63, 12.48, 5.81]\n"
          ]
        }
      ]
    },
    {
      "cell_type": "code",
      "source": [
        "c = np.random.random(3)*200 -100\n",
        "print (c)\n"
      ],
      "metadata": {
        "colab": {
          "base_uri": "https://localhost:8080/"
        },
        "id": "EJGrvSIDELUn",
        "outputId": "3e391b6b-e31d-4d11-bf48-ea1c7b87c383"
      },
      "execution_count": 143,
      "outputs": [
        {
          "output_type": "stream",
          "name": "stdout",
          "text": [
            "[16.96775534 36.97856159 44.46696372]\n"
          ]
        }
      ]
    }
  ]
}